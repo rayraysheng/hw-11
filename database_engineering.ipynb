{
 "cells": [
  {
   "cell_type": "code",
   "execution_count": 1,
   "metadata": {
    "collapsed": true
   },
   "outputs": [],
   "source": [
    "# Import SQL Alchemy\n",
    "from sqlalchemy import create_engine\n",
    "\n",
    "# Import and establish Base for which classes will be constructed \n",
    "from sqlalchemy.ext.declarative import declarative_base\n",
    "Base = declarative_base()\n",
    "\n",
    "# Import modules to declare columns and column data types\n",
    "from sqlalchemy import Column, Integer, String, Float\n",
    "\n",
    "# Import and set up Session object\n",
    "from sqlalchemy.orm import Session\n",
    "\n",
    "# Import other dependencies\n",
    "import pandas as pd"
   ]
  },
  {
   "cell_type": "code",
   "execution_count": 2,
   "metadata": {
    "collapsed": true
   },
   "outputs": [],
   "source": [
    "# Load the data files\n",
    "measurements_df = pd.read_csv('Resources/clean_hawaii_measurements.csv')\n",
    "stations_df = pd.read_csv('Resources/hawaii_stations.csv')"
   ]
  },
  {
   "cell_type": "code",
   "execution_count": 3,
   "metadata": {
    "collapsed": true
   },
   "outputs": [],
   "source": [
    "# Create classes for tables\n",
    "\n",
    "# Use this class for the measurements data\n",
    "class Measurement(Base):\n",
    "    __tablename__ = 'measurements'\n",
    "    \n",
    "    measurement_id = Column(Integer, primary_key=True)\n",
    "    station = Column(String)\n",
    "    date = Column(String)\n",
    "    prcp = Column(Float)\n",
    "    tobs = Column(Float)\n",
    "    \n",
    "# Use this class for the stations data\n",
    "class Station(Base):\n",
    "    __tablename__ = 'stations'\n",
    "    \n",
    "    station_id = Column(Integer, primary_key=True)\n",
    "    station = Column(String)\n",
    "    name = Column(String)\n",
    "    latitude = Column(Float)\n",
    "    longitude = Column(Float)\n",
    "    elevation = Column(Float)"
   ]
  },
  {
   "cell_type": "code",
   "execution_count": 4,
   "metadata": {
    "collapsed": true
   },
   "outputs": [],
   "source": [
    "# Create a connection to a SQLite database\n",
    "engine = create_engine(\"sqlite:///hawaii.sqlite\")\n",
    "Base.metadata.create_all(engine)"
   ]
  },
  {
   "cell_type": "code",
   "execution_count": 5,
   "metadata": {
    "collapsed": true
   },
   "outputs": [],
   "source": [
    "# Create all of the instances for measurements and statoins tables\n",
    "\n",
    "# Create measurements\n",
    "measurement_list = []\n",
    "\n",
    "for i in range(0, len(measurements_df)):\n",
    "    measurement = Measurement(station=measurements_df.station[i], \n",
    "                              date=measurements_df.date[i], \n",
    "                              prcp=measurements_df.prcp[i],\n",
    "                              tobs=measurements_df.tobs[i])\n",
    "    measurement_list.append(measurement)\n",
    "    \n",
    "# Create stations\n",
    "station_list = []\n",
    "\n",
    "for i in range(0, len(stations_df)):\n",
    "    station = Station(station=stations_df.station[i], \n",
    "                      name=stations_df.name[i], \n",
    "                      latitude=stations_df.latitude[i],\n",
    "                      longitude=stations_df.longitude[i],\n",
    "                      elevation=stations_df.elevation[i])\n",
    "    \n",
    "    station_list.append(station)"
   ]
  },
  {
   "cell_type": "code",
   "execution_count": 6,
   "metadata": {
    "collapsed": true
   },
   "outputs": [],
   "source": [
    "# Add all measurements and stations to session\n",
    "session = Session(bind=engine)\n",
    "session.add_all(measurement_list)\n",
    "session.add_all(station_list)\n",
    "session.commit()"
   ]
  },
  {
   "cell_type": "code",
   "execution_count": 7,
   "metadata": {},
   "outputs": [
    {
     "name": "stdout",
     "output_type": "stream",
     "text": [
      "1 USC00519397 2010-01-01 0.08 65.0\n",
      "2 USC00519397 2010-01-02 0.0 63.0\n",
      "3 USC00519397 2010-01-03 0.0 74.0\n",
      "4 USC00519397 2010-01-04 0.0 76.0\n",
      "5 USC00519397 2010-01-07 0.06 70.0\n",
      "6 USC00519397 2010-01-08 0.0 64.0\n",
      "7 USC00519397 2010-01-09 0.0 68.0\n",
      "8 USC00519397 2010-01-10 0.0 73.0\n",
      "9 USC00519397 2010-01-11 0.01 64.0\n",
      "10 USC00519397 2010-01-12 0.0 61.0\n",
      "1 USC00519397 WAIKIKI 717.2, HI US 21.2716 -157.8168 3.0\n",
      "2 USC00513117 KANEOHE 838.1, HI US 21.4234 -157.8015 14.6\n",
      "3 USC00514830 KUALOA RANCH HEADQUARTERS 886.9, HI US 21.5213 -157.8374 7.0\n",
      "4 USC00517948 PEARL CITY, HI US 21.3934 -157.9751 11.9\n",
      "5 USC00518838 UPPER WAHIAWA 874.3, HI US 21.4992 -158.0111 306.6\n",
      "6 USC00519523 WAIMANALO EXPERIMENTAL FARM, HI US 21.33556 -157.71139 19.5\n",
      "7 USC00519281 WAIHEE 837.5, HI US 21.45167 -157.84888999999998 32.9\n",
      "8 USC00511918 HONOLULU OBSERVATORY 702.2, HI US 21.3152 -157.9992 0.9\n",
      "9 USC00516128 MANOA LYON ARBO 785.2, HI US 21.3331 -157.8025 152.4\n"
     ]
    }
   ],
   "source": [
    "# Check to see if successful\n",
    "for each in session.query(Measurement)[0:10]:\n",
    "    print(each.measurement_id, each.station, each.date, \n",
    "          each.prcp, each.tobs)\n",
    "    \n",
    "for each in session.query(Station):\n",
    "    print(each.station_id, each.station, each.name, \n",
    "          each.latitude, each.longitude, each.elevation)"
   ]
  },
  {
   "cell_type": "code",
   "execution_count": null,
   "metadata": {
    "collapsed": true
   },
   "outputs": [],
   "source": []
  },
  {
   "cell_type": "code",
   "execution_count": null,
   "metadata": {
    "collapsed": true
   },
   "outputs": [],
   "source": []
  }
 ],
 "metadata": {
  "kernelspec": {
   "display_name": "Python 3",
   "language": "python",
   "name": "python3"
  },
  "language_info": {
   "codemirror_mode": {
    "name": "ipython",
    "version": 3
   },
   "file_extension": ".py",
   "mimetype": "text/x-python",
   "name": "python",
   "nbconvert_exporter": "python",
   "pygments_lexer": "ipython3",
   "version": "3.6.3"
  }
 },
 "nbformat": 4,
 "nbformat_minor": 2
}
