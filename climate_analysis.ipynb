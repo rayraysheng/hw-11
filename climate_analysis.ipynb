{
 "cells": [
  {
   "cell_type": "code",
   "execution_count": 1,
   "metadata": {
    "collapsed": true
   },
   "outputs": [],
   "source": [
    "import pandas as pd\n",
    "import numpy as np\n",
    "from matplotlib import pyplot as plt\n",
    "from datetime import date, timedelta\n",
    "\n",
    "from sqlalchemy import create_engine\n",
    "from sqlalchemy.ext.automap import automap_base\n",
    "from sqlalchemy.orm import Session\n",
    "from sqlalchemy import func, distinct\n",
    "from sqlalchemy import or_"
   ]
  },
  {
   "cell_type": "code",
   "execution_count": 2,
   "metadata": {
    "collapsed": true
   },
   "outputs": [],
   "source": [
    "# Vacation range is 10/01 to 10/10"
   ]
  },
  {
   "cell_type": "code",
   "execution_count": 3,
   "metadata": {
    "collapsed": true
   },
   "outputs": [],
   "source": [
    "# Connect to sqlite database\n",
    "engine = create_engine('sqlite:///hawaii.sqlite')"
   ]
  },
  {
   "cell_type": "code",
   "execution_count": 4,
   "metadata": {
    "collapsed": true
   },
   "outputs": [],
   "source": [
    "# Set up session\n",
    "session = Session(engine)"
   ]
  },
  {
   "cell_type": "code",
   "execution_count": 5,
   "metadata": {
    "collapsed": true
   },
   "outputs": [],
   "source": [
    "# Reflect tables into classes\n",
    "Base = automap_base()\n",
    "Base.prepare(engine, reflect=True)"
   ]
  },
  {
   "cell_type": "code",
   "execution_count": 6,
   "metadata": {
    "collapsed": true
   },
   "outputs": [],
   "source": [
    "# Save references to tables\n",
    "Measurements = Base.classes.measurements\n",
    "Stations = Base.classes.stations"
   ]
  },
  {
   "cell_type": "code",
   "execution_count": 7,
   "metadata": {},
   "outputs": [
    {
     "data": {
      "text/plain": [
       "['measurements', 'stations']"
      ]
     },
     "execution_count": 7,
     "metadata": {},
     "output_type": "execute_result"
    }
   ],
   "source": [
    "Base.classes.keys()"
   ]
  },
  {
   "cell_type": "markdown",
   "metadata": {},
   "source": [
    "### Precipitation Analysis"
   ]
  },
  {
   "cell_type": "code",
   "execution_count": 8,
   "metadata": {
    "collapsed": true
   },
   "outputs": [],
   "source": [
    "# Retrieve the last 12 months\n",
    "# Inspecting the data, the last date was 2017-08-23\n",
    "last_12_mths = session.query(Measurements.date, Measurements.prcp)\\\n",
    ".filter(or_(Measurements.date.like('2017-%'), # all records from 2017\n",
    "            Measurements.date.like('2016-1%'), # from oct to dec of 2016\n",
    "            Measurements.date.like('2016-09%'), # from sep 2016\n",
    "            Measurements.date.like('2016-08-3%'), # from aug 30 and 31 2016\n",
    "            Measurements.date.like('2016-08-24'), # the rest added manually\n",
    "            Measurements.date.like('2016-08-25'),\n",
    "            Measurements.date.like('2016-08-26'),\n",
    "            Measurements.date.like('2016-08-27'),\n",
    "            Measurements.date.like('2016-08-28'),\n",
    "            Measurements.date.like('2016-08-29'))\n",
    "       )"
   ]
  },
  {
   "cell_type": "code",
   "execution_count": null,
   "metadata": {
    "collapsed": true
   },
   "outputs": [],
   "source": []
  },
  {
   "cell_type": "code",
   "execution_count": 9,
   "metadata": {
    "collapsed": true
   },
   "outputs": [],
   "source": [
    "# Load just the date and precipitation into a DataFrame\n",
    "prcp_12mths_df = pd.read_sql_query(last_12_mths.statement.compile(engine), con=engine)\n",
    "\n",
    "# Due to multiple recordings per date, take the mean of each date\n",
    "prcp_by_date_df = pd.DataFrame(prcp_12mths_df.groupby('date').mean())"
   ]
  },
  {
   "cell_type": "code",
   "execution_count": 10,
   "metadata": {
    "scrolled": true
   },
   "outputs": [
    {
     "data": {
      "image/png": "[encoded data removed]",
      "text/plain": [
       "<matplotlib.figure.Figure at 0x1e1c1ad30b8>"
      ]
     },
     "metadata": {},
     "output_type": "display_data"
    }
   ],
   "source": [
    "# Plot precipitation by date\n",
    "ax = prcp_by_date_df.prcp.plot(kind='bar', figsize=(20, 5))\n",
    "\n",
    "plt.title('Precipitation by Date: %s to %s' \\\n",
    "          %(prcp_by_date_df.index[0], prcp_by_date_df.index[-1]), fontsize=20)\n",
    "plt.xlabel('Date', fontsize=16)\n",
    "plt.ylabel('Precipitation', fontsize=16)\n",
    "\n",
    "# Reduce number of xticks to make it look nicer\n",
    "ax.set_xticklabels(prcp_by_date_df.index[0::5])\n",
    "plt.locator_params(axis='x', nbins=73)\n",
    "\n",
    "plt.show()"
   ]
  },
  {
   "cell_type": "code",
   "execution_count": 11,
   "metadata": {},
   "outputs": [
    {
     "name": "stdout",
     "output_type": "stream",
     "text": [
      "             prcp\n",
      "count  365.000000\n",
      "mean     0.169987\n",
      "std      0.295722\n",
      "min      0.000000\n",
      "25%      0.008571\n",
      "50%      0.070000\n",
      "75%      0.191667\n",
      "max      2.380000\n"
     ]
    }
   ],
   "source": [
    "print(prcp_by_date_df.describe())"
   ]
  },
  {
   "cell_type": "markdown",
   "metadata": {},
   "source": [
    "### Station Analysis"
   ]
  },
  {
   "cell_type": "code",
   "execution_count": 12,
   "metadata": {},
   "outputs": [
    {
     "name": "stdout",
     "output_type": "stream",
     "text": [
      "9\n"
     ]
    }
   ],
   "source": [
    "# Count number of unique stations\n",
    "print(session.query(func.count(distinct(Stations.station)))[0][0])"
   ]
  },
  {
   "cell_type": "code",
   "execution_count": 13,
   "metadata": {
    "collapsed": true
   },
   "outputs": [],
   "source": [
    "# Join stations and measurements tables \n",
    "# Group by station, order by number of observations\n",
    "stations_fill_active = session.query(Stations.station, func.count(Measurements.station))\\\n",
    ".join(Measurements, Stations.station==Measurements.station)\\\n",
    ".group_by(Stations.station).order_by(func.count(Measurements.tobs).desc())"
   ]
  },
  {
   "cell_type": "code",
   "execution_count": 14,
   "metadata": {},
   "outputs": [
    {
     "name": "stdout",
     "output_type": "stream",
     "text": [
      "Station: USC00519281 | Observations: 2772\n",
      "Station: USC00513117 | Observations: 2696\n",
      "Station: USC00519397 | Observations: 2685\n",
      "Station: USC00519523 | Observations: 2572\n",
      "Station: USC00516128 | Observations: 2484\n",
      "Station: USC00514830 | Observations: 1937\n",
      "Station: USC00511918 | Observations: 1932\n",
      "Station: USC00517948 | Observations: 683\n",
      "Station: USC00518838 | Observations: 342\n"
     ]
    }
   ],
   "source": [
    "# Show stations, most active on top\n",
    "for each in stations_fill_active.all():\n",
    "    print(f'Station: {each[0]} | Observations: {each[1]}')"
   ]
  },
  {
   "cell_type": "code",
   "execution_count": 15,
   "metadata": {},
   "outputs": [
    {
     "name": "stdout",
     "output_type": "stream",
     "text": [
      "Most active station: USC00519281    \n",
      "Number of Observations: 2772\n"
     ]
    }
   ],
   "source": [
    "# Print the most active station\n",
    "print(\n",
    "    f'Most active station: {stations_fill_active.all()[0][0]}\\\n",
    "    \\nNumber of Observations: {stations_fill_active.all()[0][1]}'\n",
    ")"
   ]
  },
  {
   "cell_type": "code",
   "execution_count": 16,
   "metadata": {
    "collapsed": true
   },
   "outputs": [],
   "source": [
    "# Retrieve data from the last 12 months from the most active station\n",
    "most_active_last_12m_tobs = session.query(Measurements.tobs)\\\n",
    ".filter(or_(Measurements.date.like('2017-%'), # all records from 2017\n",
    "            Measurements.date.like('2016-1%'), # from oct to dec of 2016\n",
    "            Measurements.date.like('2016-09%'), # from sep 2016\n",
    "            Measurements.date.like('2016-08-3%'), # from aug 30 and 31 2016\n",
    "            Measurements.date.like('2016-08-24'), # the rest added manually\n",
    "            Measurements.date.like('2016-08-25'),\n",
    "            Measurements.date.like('2016-08-26'),\n",
    "            Measurements.date.like('2016-08-27'),\n",
    "            Measurements.date.like('2016-08-28'),\n",
    "            Measurements.date.like('2016-08-29'))\n",
    "       ).filter(Measurements.station==str(stations_fill_active.all()[0][0]))"
   ]
  },
  {
   "cell_type": "code",
   "execution_count": 17,
   "metadata": {},
   "outputs": [
    {
     "data": {
      "image/png": "[encoded data removed]",
      "text/plain": [
       "<matplotlib.figure.Figure at 0x1e1c20b6b00>"
      ]
     },
     "metadata": {},
     "output_type": "display_data"
    }
   ],
   "source": [
    "# Convert the results to a list of all the temperature readings\n",
    "most_active_temp_list = [each[0] for each in most_active_last_12m_tobs]\n",
    "\n",
    "# Plot the results as histogram\n",
    "plt.hist(most_active_temp_list, bins=12)\n",
    "\n",
    "plt.title('12-Month Temperature Distribution by Most Active Station')\n",
    "plt.xlabel('Temperature range')\n",
    "plt.ylabel('Frequency')\n",
    "\n",
    "plt.show()"
   ]
  },
  {
   "cell_type": "markdown",
   "metadata": {},
   "source": [
    "### Temperature Analysis"
   ]
  },
  {
   "cell_type": "code",
   "execution_count": 18,
   "metadata": {
    "collapsed": true
   },
   "outputs": [],
   "source": [
    "# Step 1: parse date strings to date object\n",
    "def parse_date(date_string):\n",
    "    try:\n",
    "        date_parts = date_string.split('-')\n",
    "\n",
    "        year = int(date_parts[0])\n",
    "        month = int(date_parts[1])\n",
    "        day = int(date_parts[2])\n",
    "\n",
    "        date_object = date(year, month, day)\n",
    "        return date_object\n",
    "    except:\n",
    "        print('Error: Check date string format')"
   ]
  },
  {
   "cell_type": "code",
   "execution_count": 19,
   "metadata": {
    "collapsed": true
   },
   "outputs": [],
   "source": [
    "# Step 2: get all the dates between the starting and ending dates\n",
    "def get_dates_between(start_date_obj, end_date_obj):\n",
    "    \n",
    "    date_obj_list = []\n",
    "    delta = end_date_obj - start_date_obj\n",
    "    \n",
    "    for i in range(delta.days+1):\n",
    "        new_date = start_date_obj + timedelta(days=i)\n",
    "        date_obj_list.append(new_date)\n",
    "        \n",
    "    return date_obj_list"
   ]
  },
  {
   "cell_type": "code",
   "execution_count": 20,
   "metadata": {
    "collapsed": true
   },
   "outputs": [],
   "source": [
    "# Step 3: reformat the in-between dates to string\n",
    "def convert_dates_list(date_obj_list):\n",
    "    date_str_list = [date.strftime(each, '%Y-%m-%d')\\\n",
    "                         for each in date_obj_list]\n",
    "    return date_str_list"
   ]
  },
  {
   "cell_type": "code",
   "execution_count": 21,
   "metadata": {
    "collapsed": true
   },
   "outputs": [],
   "source": [
    "# Step 4: query data from the target dates\n",
    "def query_temps(date_str_list):\n",
    "    temp_stats_query = session.query(Measurements.date, \n",
    "                               func.min(Measurements.tobs), \n",
    "                               func.avg(Measurements.tobs),\n",
    "                               func.max(Measurements.tobs))\\\n",
    "    .filter(Measurements.date.in_(date_str_list)).group_by(Measurements.date)\n",
    "    \n",
    "    return temp_stats_query"
   ]
  },
  {
   "cell_type": "code",
   "execution_count": 22,
   "metadata": {
    "collapsed": true
   },
   "outputs": [],
   "source": [
    "# Step 5: use the query results to make a DataFrame\n",
    "def make_temp_df(temp_stats_query):\n",
    "    \n",
    "    temp_stats_all_list = [list(each) for each in temp_stats_query.all()]\n",
    "    temp_stats_df = pd.DataFrame(temp_stats_all_list, columns=['date', 'low', 'avg', 'high'])\n",
    "    \n",
    "    return temp_stats_df"
   ]
  },
  {
   "cell_type": "code",
   "execution_count": 23,
   "metadata": {
    "collapsed": true
   },
   "outputs": [],
   "source": [
    "# Putting it all together\n",
    "def calc_temps(start_date_str, end_date_str):\n",
    "    \n",
    "    start_date_obj = parse_date(start_date_str)\n",
    "    end_date_obj = parse_date(end_date_str)\n",
    "    \n",
    "    date_obj_list = get_dates_between(start_date_obj, end_date_obj)\n",
    "    \n",
    "    date_str_list = convert_dates_list(date_obj_list)\n",
    "    \n",
    "    temp_stats_query = query_temps(date_str_list)\n",
    "    \n",
    "    temp_stats_df = make_temp_df(temp_stats_query)\n",
    "    \n",
    "    return temp_stats_df"
   ]
  },
  {
   "cell_type": "code",
   "execution_count": 24,
   "metadata": {
    "collapsed": true
   },
   "outputs": [],
   "source": [
    "# Create the DataFrame of temperatures for our dates\n",
    "temp_stats_df = calc_temps('2016-10-01', '2016-10-10')"
   ]
  },
  {
   "cell_type": "code",
   "execution_count": 25,
   "metadata": {},
   "outputs": [
    {
     "data": {
      "image/png": "[encoded data removed]",
      "text/plain": [
       "<matplotlib.figure.Figure at 0x1e1c33c1400>"
      ]
     },
     "metadata": {},
     "output_type": "display_data"
    }
   ],
   "source": [
    "# Plot the temperatures\n",
    "# Set up x-axis & errorbars\n",
    "x_positions = range(0, len(temp_stats_df))\n",
    "x_labels = list(temp_stats_df.date)\n",
    "yerr=[h - l for h, l in zip(temp_stats_df.high, temp_stats_df.low)]\n",
    "\n",
    "# Plots\n",
    "plt.bar(x_positions, temp_stats_df.avg, alpha=0.5, color='blue')\n",
    "plt.errorbar(x_positions, temp_stats_df.avg, yerr=yerr, color='black', fmt='o')\n",
    "\n",
    "# Labels\n",
    "plt.xticks(x_positions, x_labels, rotation=90)\n",
    "plt.xlabel('Date')\n",
    "plt.ylabel('Temperature in Fahrenheit')\n",
    "plt.title(f'Average Temperature from {x_labels[0]} to {x_labels[-1]}')\n",
    "\n",
    "# Pretty it up\n",
    "plt.ylim(temp_stats_df.avg.min() - 15, temp_stats_df.avg.max() + 15)\n",
    "\n",
    "plt.show()"
   ]
  },
  {
   "cell_type": "code",
   "execution_count": null,
   "metadata": {
    "collapsed": true
   },
   "outputs": [],
   "source": []
  }
 ],
 "metadata": {
  "kernelspec": {
   "display_name": "Python 3",
   "language": "python",
   "name": "python3"
  },
  "language_info": {
   "codemirror_mode": {
    "name": "ipython",
    "version": 3
   },
   "file_extension": ".py",
   "mimetype": "text/x-python",
   "name": "python",
   "nbconvert_exporter": "python",
   "pygments_lexer": "ipython3",
   "version": "3.6.3"
  }
 },
 "nbformat": 4,
 "nbformat_minor": 2
}
